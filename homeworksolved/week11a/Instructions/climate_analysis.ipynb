{
 "cells": [
  {
   "cell_type": "code",
   "execution_count": 58,
   "metadata": {
    "collapsed": true
   },
   "outputs": [],
   "source": [
    "import datetime as dt\n",
    "import numpy as np\n",
    "import pandas as pd\n",
    "from datetime import datetime\n",
    "import sqlalchemy\n",
    "from sqlalchemy.ext.automap import automap_base\n",
    "from sqlalchemy.orm import Session\n",
    "from sqlalchemy import create_engine, func, inspect, desc,extract\n",
    "from sqlalchemy.sql import label\n",
    "\n",
    "from flask import Flask, jsonify\n",
    "\n",
    "import matplotlib.pyplot as plt"
   ]
  },
  {
   "cell_type": "code",
   "execution_count": 59,
   "metadata": {
    "collapsed": true
   },
   "outputs": [],
   "source": [
    "engine = create_engine(\"sqlite:///hawaii.sqlite\")"
   ]
  },
  {
   "cell_type": "code",
   "execution_count": 60,
   "metadata": {
    "collapsed": true
   },
   "outputs": [],
   "source": [
    "Base = automap_base()\n",
    "Base.prepare(engine, reflect=True)"
   ]
  },
  {
   "cell_type": "code",
   "execution_count": 61,
   "metadata": {
    "collapsed": true
   },
   "outputs": [],
   "source": [
    "Measurements = Base.classes.measurements\n",
    "Stations = Base.classes.stations"
   ]
  },
  {
   "cell_type": "code",
   "execution_count": 62,
   "metadata": {
    "collapsed": true
   },
   "outputs": [],
   "source": [
    "session = Session(bind = engine)"
   ]
  },
  {
   "cell_type": "code",
   "execution_count": 63,
   "metadata": {
    "collapsed": true
   },
   "outputs": [],
   "source": [
    "prcp_results = session.query(Measurements.date, Measurements.prcp).filter(Measurements.date.between('2016-08-01', '2017-08-01')).all()\n",
    "last_12_months_of_precipitation_data=prcp_results\n",
    "#last_12_months_of_precipitation_data"
   ]
  },
  {
   "cell_type": "code",
   "execution_count": 64,
   "metadata": {
    "collapsed": true
   },
   "outputs": [],
   "source": [
    "date = [prcp_results[0] for prcp_result in prcp_results[0:]]\n",
    "prcp= [prcp_results[1] for prcp_result in prcp_results[0:]]\n",
    "prcp_df= pd.DataFrame(prcp_results[0:], columns=['date', 'prcp'] )\n",
    "prcp_df.set_index('date', inplace=True, )\n",
    "#prcp_df.head(5)"
   ]
  },
  {
   "cell_type": "code",
   "execution_count": 65,
   "metadata": {
    "collapsed": true
   },
   "outputs": [],
   "source": [
    "prcp_list = prcp_df[\"prcp\"].tolist()"
   ]
  },
  {
   "cell_type": "code",
   "execution_count": 66,
   "metadata": {},
   "outputs": [
    {
     "data": {
      "image/png": "[encoded data removed]",
      "text/plain": [
       "<Figure size 432x288 with 1 Axes>"
      ]
     },
     "metadata": {},
     "output_type": "display_data"
    }
   ],
   "source": [
    "fig, ax = plt.subplots()\n",
    "ax.bar(prcp_df.index.get_values(), prcp_list,color='b',align='center', label=\"Precipitation\")\n",
    "ax.xaxis_date()\n",
    "fig.autofmt_xdate()\n",
    "plt.title('Hawaii Precipitation in the Last 12 months')\n",
    "plt.xlabel('Date')\n",
    "plt.ylabel(\"Precipitation\")\n",
    "plt.tight_layout()\n",
    "plt.show()"
   ]
  },
  {
   "cell_type": "code",
   "execution_count": 67,
   "metadata": {
    "collapsed": true
   },
   "outputs": [],
   "source": [
    "def calc_temps(start_date, end_date):\n",
    "     \n",
    "    return session.query(func.min(Measurements.tobs), func.avg(Measurements.tobs), func.max(Measurements.tobs)).\\\n",
    "        filter(Measurements.date >= start_date).filter(Measurements.date <= end_date).all()\n",
    "#print(calc_temps('2017-02-28', '2017-03-05'))"
   ]
  },
  {
   "cell_type": "code",
   "execution_count": 68,
   "metadata": {
    "collapsed": true
   },
   "outputs": [],
   "source": [
    "temperatures = (calc_temps('2017-02-28', '2017-03-31'))\n",
    "labels = ['TMIN', 'TAVE', 'TMAX']\n",
    "df = pd.DataFrame.from_records(temperatures, columns=labels)"
   ]
  },
  {
   "cell_type": "code",
   "execution_count": 69,
   "metadata": {},
   "outputs": [
    {
     "data": {
      "image/png": "[encoded data removed]",
      "text/plain": [
       "<Figure size 360x504 with 1 Axes>"
      ]
     },
     "metadata": {},
     "output_type": "display_data"
    }
   ],
   "source": [
    "temp_chart = df[['TAVE']].plot(kind='bar', title =\"Temperatures in Hawaii\", figsize=(5, 7), legend=True, fontsize=12, grid=True, color='lightblue')\n",
    "temp_chart.set_xlabel(\"Temprature Avg\", fontsize=12)\n",
    "temp_chart.set_ylabel(\"Temperatures in Farenheit\", fontsize=12)\n",
    "plt.show()"
   ]
  },
  {
   "cell_type": "code",
   "execution_count": 70,
   "metadata": {
    "collapsed": true
   },
   "outputs": [],
   "source": [
    "stations_results = session.query(func.count(Stations.station)).all()\n",
    "#print(\"There are \" + str(stations_results[0]) + \" stations.\")"
   ]
  },
  {
   "cell_type": "code",
   "execution_count": 71,
   "metadata": {
    "collapsed": true
   },
   "outputs": [],
   "source": [
    "active_results = session.query(Measurements.station,\n",
    "    label('date', func.count(Measurements.date))).group_by(Measurements.station).all()\n",
    "#for result in active_results:\n",
    " #   print(result)"
   ]
  },
  {
   "cell_type": "code",
   "execution_count": 72,
   "metadata": {
    "collapsed": true
   },
   "outputs": [],
   "source": [
    "desc_order = session.query(Measurements.station, func.count(Measurements.tobs)).group_by(Measurements.station).order_by(func.count(Measurements.tobs).desc())\n",
    "#for result in desc_order:\n",
    "#    print(result)"
   ]
  },
  {
   "cell_type": "code",
   "execution_count": 73,
   "metadata": {
    "collapsed": true
   },
   "outputs": [],
   "source": [
    "obsv_num = session.query(Measurements.station, func.count(Measurements.tobs)).group_by(Measurements.station).order_by(func.count(Measurements.tobs).desc()).first()\n",
    "#print(obsv_num)"
   ]
  },
  {
   "cell_type": "code",
   "execution_count": 74,
   "metadata": {
    "collapsed": true
   },
   "outputs": [],
   "source": [
    "temps = session.query(Measurements.station, Measurements.date, Measurements.tobs).\\\n",
    "    filter(Measurements.date > '2017-01-06').\\\n",
    "    order_by(Measurements.date).all()\n",
    "#temps"
   ]
  },
  {
   "cell_type": "code",
   "execution_count": 75,
   "metadata": {
    "collapsed": true
   },
   "outputs": [],
   "source": [
    "highest_obs = session.query(Measurements.station, Measurements.tobs).\\\n",
    "    filter(Measurements.date > '2017-01-01').\\\n",
    "    group_by(Measurements.station).\\\n",
    "    order_by(func.count(Measurements.tobs).desc()).all()\n",
    "#highest_obs"
   ]
  },
  {
   "cell_type": "code",
   "execution_count": 76,
   "metadata": {
    "collapsed": true
   },
   "outputs": [],
   "source": [
    "df = pd.DataFrame(temps, columns=['Station', 'date', 'temp'])\n",
    "df.set_index('Station', inplace=True)\n",
    "#df.head()"
   ]
  },
  {
   "cell_type": "code",
   "execution_count": 77,
   "metadata": {},
   "outputs": [
    {
     "data": {
      "image/png": "[encoded data removed]",
      "text/plain": [
       "<Figure size 1080x720 with 1 Axes>"
      ]
     },
     "metadata": {},
     "output_type": "display_data"
    }
   ],
   "source": [
    "hist_plot = df['temp'].hist(bins=12, figsize=(15,10))\n",
    "hist_plot.set_title('Temperature Observations', fontsize=20)\n",
    "hist_plot.set_ylabel('Frequency', fontsize=20)\n",
    "plt.show()"
   ]
  },
  {
   "cell_type": "code",
   "execution_count": 84,
   "metadata": {},
   "outputs": [],
   "source": [
    "Rainfall_results = session.query(Measurements.station, func.count(Measurements.prcp)).\\\n",
    "                   group_by(Measurements.station).filter(Measurements.date.between('2016-08-01', '2017-08-01')).all()\n",
    "#Rainfall_results"
   ]
  },
  {
   "cell_type": "code",
   "execution_count": 85,
   "metadata": {},
   "outputs": [],
   "source": [
    "trip_month=7\n",
    "trip_days=range(1, 16)\n",
    "for i in range(1, 16):\n",
    "    subquery=session.query(Measurements.date).filter(extract('month', Measurements.date)==trip_month).\\\n",
    "             filter(extract('day', Measurements.date)== i ).group_by(Measurements.date).order_by(Measurements.date).all()\n",
    "#subquery"
   ]
  },
  {
   "cell_type": "code",
   "execution_count": 90,
   "metadata": {},
   "outputs": [
    {
     "name": "stdout",
     "output_type": "stream",
     "text": [
      "(datetime.date(2010, 7, 1), 75.0, 70.0, 72.75)\n",
      "(datetime.date(2011, 7, 1), 81.0, 68.0, 73.875)\n",
      "(datetime.date(2012, 7, 1), 78.0, 72.0, 76.33333333333333)\n",
      "(datetime.date(2013, 7, 1), 78.0, 68.0, 74.0)\n",
      "(datetime.date(2014, 7, 1), 79.0, 70.0, 76.33333333333333)\n",
      "(datetime.date(2015, 7, 1), 80.0, 68.0, 74.6)\n",
      "(datetime.date(2016, 7, 1), 79.0, 76.0, 77.25)\n",
      "(datetime.date(2017, 7, 1), 80.0, 74.0, 77.25)\n",
      "(datetime.date(2010, 7, 2), 77.0, 69.0, 72.0)\n",
      "(datetime.date(2011, 7, 2), 79.0, 73.0, 76.0)\n",
      "(datetime.date(2012, 7, 2), 77.0, 71.0, 74.42857142857143)\n",
      "(datetime.date(2013, 7, 2), 77.0, 69.0, 73.375)\n",
      "(datetime.date(2014, 7, 2), 82.0, 68.0, 75.57142857142857)\n",
      "(datetime.date(2015, 7, 2), 81.0, 68.0, 77.6)\n",
      "(datetime.date(2016, 7, 2), 79.0, 77.0, 78.33333333333333)\n",
      "(datetime.date(2017, 7, 2), 81.0, 77.0, 79.0)\n",
      "(datetime.date(2010, 7, 3), 77.0, 69.0, 73.57142857142857)\n",
      "(datetime.date(2011, 7, 3), 78.0, 71.0, 75.66666666666667)\n",
      "(datetime.date(2012, 7, 3), 76.0, 68.0, 72.71428571428571)\n",
      "(datetime.date(2013, 7, 3), 77.0, 69.0, 73.375)\n",
      "(datetime.date(2014, 7, 3), 78.0, 71.0, 75.0)\n",
      "(datetime.date(2015, 7, 3), 82.0, 73.0, 77.0)\n",
      "(datetime.date(2016, 7, 3), 77.0, 76.0, 76.5)\n",
      "(datetime.date(2017, 7, 3), 81.0, 76.0, 77.8)\n",
      "(datetime.date(2010, 7, 4), 79.0, 72.0, 75.375)\n",
      "(datetime.date(2011, 7, 4), 78.0, 70.0, 75.28571428571429)\n",
      "(datetime.date(2012, 7, 4), 79.0, 70.0, 74.42857142857143)\n",
      "(datetime.date(2013, 7, 4), 79.0, 73.0, 76.71428571428571)\n",
      "(datetime.date(2014, 7, 4), 81.0, 77.0, 78.71428571428571)\n",
      "(datetime.date(2015, 7, 4), 81.0, 75.0, 77.66666666666667)\n",
      "(datetime.date(2016, 7, 4), 81.0, 76.0, 78.75)\n",
      "(datetime.date(2017, 7, 4), 80.0, 77.0, 78.0)\n",
      "(datetime.date(2010, 7, 5), 79.0, 72.0, 75.5)\n",
      "(datetime.date(2011, 7, 5), 78.0, 70.0, 74.0)\n",
      "(datetime.date(2012, 7, 5), 77.0, 71.0, 74.71428571428571)\n",
      "(datetime.date(2013, 7, 5), 76.0, 66.0, 71.0)\n",
      "(datetime.date(2014, 7, 5), 78.0, 71.0, 74.0)\n",
      "(datetime.date(2015, 7, 5), 81.0, 74.0, 77.66666666666667)\n",
      "(datetime.date(2016, 7, 5), 79.0, 71.0, 75.66666666666667)\n",
      "(datetime.date(2017, 7, 5), 80.0, 75.0, 77.25)\n",
      "(datetime.date(2010, 7, 6), 76.0, 69.0, 71.875)\n",
      "(datetime.date(2011, 7, 6), 79.0, 69.0, 74.0)\n",
      "(datetime.date(2012, 7, 6), 79.0, 70.0, 75.0)\n",
      "(datetime.date(2013, 7, 6), 79.0, 72.0, 75.57142857142857)\n",
      "(datetime.date(2014, 7, 6), 79.0, 71.0, 74.71428571428571)\n",
      "(datetime.date(2015, 7, 6), 81.0, 74.0, 76.75)\n",
      "(datetime.date(2016, 7, 6), 78.0, 71.0, 75.0)\n",
      "(datetime.date(2017, 7, 6), 81.0, 74.0, 76.8)\n",
      "(datetime.date(2010, 7, 7), 76.0, 69.0, 72.11111111111111)\n",
      "(datetime.date(2011, 7, 7), 76.0, 71.0, 73.0)\n",
      "(datetime.date(2012, 7, 7), 77.0, 70.0, 74.5)\n",
      "(datetime.date(2013, 7, 7), 78.0, 70.0, 75.0)\n",
      "(datetime.date(2014, 7, 7), 78.0, 69.0, 74.28571428571429)\n",
      "(datetime.date(2015, 7, 7), 82.0, 74.0, 78.0)\n",
      "(datetime.date(2016, 7, 7), 80.0, 73.0, 76.33333333333333)\n",
      "(datetime.date(2017, 7, 7), 79.0, 74.0, 76.8)\n",
      "(datetime.date(2010, 7, 8), 76.0, 69.0, 73.375)\n",
      "(datetime.date(2011, 7, 8), 77.0, 74.0, 75.0)\n",
      "(datetime.date(2012, 7, 8), 81.0, 72.0, 76.71428571428571)\n",
      "(datetime.date(2013, 7, 8), 79.0, 70.0, 74.66666666666667)\n",
      "(datetime.date(2014, 7, 8), 80.0, 69.0, 74.71428571428571)\n",
      "(datetime.date(2015, 7, 8), 80.0, 73.0, 76.75)\n",
      "(datetime.date(2016, 7, 8), 80.0, 73.0, 77.5)\n",
      "(datetime.date(2017, 7, 8), 81.0, 71.0, 77.16666666666667)\n",
      "(datetime.date(2010, 7, 9), 74.0, 68.0, 72.625)\n",
      "(datetime.date(2011, 7, 9), 79.0, 74.0, 76.66666666666667)\n",
      "(datetime.date(2012, 7, 9), 77.0, 71.0, 73.66666666666667)\n",
      "(datetime.date(2013, 7, 9), 81.0, 74.0, 77.57142857142857)\n",
      "(datetime.date(2014, 7, 9), 78.0, 70.0, 74.0)\n",
      "(datetime.date(2015, 7, 9), 83.0, 74.0, 78.14285714285714)\n",
      "(datetime.date(2016, 7, 9), 81.0, 71.0, 77.66666666666667)\n",
      "(datetime.date(2017, 7, 9), 82.0, 76.0, 79.33333333333333)\n",
      "(datetime.date(2010, 7, 10), 76.0, 68.0, 73.125)\n",
      "(datetime.date(2011, 7, 10), 79.0, 76.0, 77.0)\n",
      "(datetime.date(2012, 7, 10), 79.0, 70.0, 73.57142857142857)\n",
      "(datetime.date(2013, 7, 10), 79.0, 70.0, 74.85714285714286)\n",
      "(datetime.date(2014, 7, 10), 81.0, 73.0, 76.42857142857143)\n",
      "(datetime.date(2015, 7, 10), 81.0, 73.0, 76.33333333333333)\n",
      "(datetime.date(2016, 7, 10), 78.0, 72.0, 76.0)\n",
      "(datetime.date(2017, 7, 10), 82.0, 69.0, 77.83333333333333)\n",
      "(datetime.date(2010, 7, 11), 81.0, 71.0, 76.66666666666667)\n",
      "(datetime.date(2011, 7, 11), 78.0, 70.0, 73.33333333333333)\n",
      "(datetime.date(2012, 7, 11), 77.0, 70.0, 74.25)\n",
      "(datetime.date(2013, 7, 11), 77.0, 71.0, 74.85714285714286)\n",
      "(datetime.date(2014, 7, 11), 81.0, 73.0, 76.0)\n",
      "(datetime.date(2015, 7, 11), 79.0, 76.0, 77.4)\n",
      "(datetime.date(2016, 7, 11), 80.0, 72.0, 75.66666666666667)\n",
      "(datetime.date(2017, 7, 11), 79.0, 72.0, 76.33333333333333)\n",
      "(datetime.date(2010, 7, 12), 77.0, 70.0, 72.83333333333333)\n",
      "(datetime.date(2011, 7, 12), 77.0, 67.0, 73.2)\n",
      "(datetime.date(2012, 7, 12), 76.0, 70.0, 72.625)\n",
      "(datetime.date(2013, 7, 12), 79.0, 71.0, 74.0)\n",
      "(datetime.date(2014, 7, 12), 81.0, 73.0, 78.28571428571429)\n",
      "(datetime.date(2015, 7, 12), 82.0, 77.0, 79.33333333333333)\n",
      "(datetime.date(2016, 7, 12), 80.0, 75.0, 78.66666666666667)\n",
      "(datetime.date(2017, 7, 12), 82.0, 72.0, 78.0)\n",
      "(datetime.date(2010, 7, 13), 80.0, 69.0, 74.42857142857143)\n",
      "(datetime.date(2011, 7, 13), 75.0, 72.0, 73.5)\n",
      "(datetime.date(2012, 7, 13), 78.0, 72.0, 75.125)\n",
      "(datetime.date(2013, 7, 13), 78.0, 75.0, 76.66666666666667)\n",
      "(datetime.date(2014, 7, 13), 81.0, 72.0, 78.0)\n",
      "(datetime.date(2015, 7, 13), 80.0, 74.0, 77.5)\n",
      "(datetime.date(2016, 7, 13), 79.0, 74.0, 76.4)\n",
      "(datetime.date(2017, 7, 13), 81.0, 74.0, 77.66666666666667)\n",
      "(datetime.date(2010, 7, 14), 77.0, 69.0, 72.28571428571429)\n",
      "(datetime.date(2011, 7, 14), 77.0, 67.0, 72.85714285714286)\n",
      "(datetime.date(2012, 7, 14), 82.0, 73.0, 77.42857142857143)\n",
      "(datetime.date(2013, 7, 14), 81.0, 77.0, 79.16666666666667)\n",
      "(datetime.date(2014, 7, 14), 81.0, 73.0, 77.14285714285714)\n",
      "(datetime.date(2015, 7, 14), 81.0, 72.0, 76.85714285714286)\n",
      "(datetime.date(2016, 7, 14), 80.0, 73.0, 77.4)\n",
      "(datetime.date(2017, 7, 14), 81.0, 76.0, 78.83333333333333)\n",
      "(datetime.date(2010, 7, 15), 79.0, 68.0, 73.42857142857143)\n",
      "(datetime.date(2011, 7, 15), 79.0, 70.0, 74.85714285714286)\n",
      "(datetime.date(2012, 7, 15), 81.0, 72.0, 76.71428571428571)\n",
      "(datetime.date(2013, 7, 15), 78.0, 72.0, 74.57142857142857)\n",
      "(datetime.date(2014, 7, 15), 82.0, 74.0, 77.125)\n",
      "(datetime.date(2015, 7, 15), 81.0, 71.0, 76.57142857142857)\n",
      "(datetime.date(2016, 7, 15), 80.0, 71.0, 76.83333333333333)\n",
      "(datetime.date(2017, 7, 15), 82.0, 78.0, 80.16666666666667)\n"
     ]
    }
   ],
   "source": [
    "dates=[]\n",
    "daily_normals_Three_AVG=[]\n",
    "daily_normals_TMAX=[]\n",
    "daily_normals_TMIN=[]\n",
    "daily_normals_TAVG=[]\n",
    "\n",
    "trip_month=7\n",
    "trip_days=range(1, 16)\n",
    "\n",
    "def daily_normals():\n",
    "    \n",
    "    for i in range(1,16):\n",
    "        results=session.query(Measurements.date.label(\"dates\"), func.max(Measurements.tobs).label(\"max_tobs\"),\\\n",
    "                             func.min(Measurements.tobs).label(\"min_tobs\"),func.avg(Measurements.tobs).label(\"avg_tobs\")).\\\n",
    "                             filter(extract('month', Measurements.date)==trip_month).\\\n",
    "                             filter(extract('day', Measurements.date)== i ).group_by(Measurements.date).order_by(Measurements.date)\n",
    "        results\n",
    "        for res in results.all():\n",
    "             print( res)\n",
    "        \n",
    "        res\n",
    "        TMAX = res.max_tobs\n",
    "        TMIN= res.min_tobs\n",
    "        TAVG= res.avg_tobs\n",
    "        Date= res.dates\n",
    "        \n",
    "        data = [TMAX, TMIN, TAVG]\n",
    "        #avg = [float(sum(col))/len(col) for col in zip(*data)]\n",
    "\n",
    "        dates.append(Date)\n",
    "        #daily_normals_Three_AVG.append(avg)\n",
    "        daily_normals_TMAX.append(TMAX)\n",
    "        daily_normals_TMIN.append(TMIN)\n",
    "        daily_normals_TAVG.append(TAVG)\n",
    "        \n",
    "daily_normals()"
   ]
  },
  {
   "cell_type": "code",
   "execution_count": 91,
   "metadata": {},
   "outputs": [
    {
     "data": {
      "text/html": [
       "<div>\n",
       "<style scoped>\n",
       "    .dataframe tbody tr th:only-of-type {\n",
       "        vertical-align: middle;\n",
       "    }\n",
       "\n",
       "    .dataframe tbody tr th {\n",
       "        vertical-align: top;\n",
       "    }\n",
       "\n",
       "    .dataframe thead th {\n",
       "        text-align: right;\n",
       "    }\n",
       "</style>\n",
       "<table border=\"1\" class=\"dataframe\">\n",
       "  <thead>\n",
       "    <tr style=\"text-align: right;\">\n",
       "      <th></th>\n",
       "      <th>TAVG</th>\n",
       "      <th>TMAX</th>\n",
       "      <th>TMIN</th>\n",
       "    </tr>\n",
       "    <tr>\n",
       "      <th>Date</th>\n",
       "      <th></th>\n",
       "      <th></th>\n",
       "      <th></th>\n",
       "    </tr>\n",
       "  </thead>\n",
       "  <tbody>\n",
       "    <tr>\n",
       "      <th>2017-07-01</th>\n",
       "      <td>77.25</td>\n",
       "      <td>80.0</td>\n",
       "      <td>74.0</td>\n",
       "    </tr>\n",
       "    <tr>\n",
       "      <th>2017-07-02</th>\n",
       "      <td>79.00</td>\n",
       "      <td>81.0</td>\n",
       "      <td>77.0</td>\n",
       "    </tr>\n",
       "    <tr>\n",
       "      <th>2017-07-03</th>\n",
       "      <td>77.80</td>\n",
       "      <td>81.0</td>\n",
       "      <td>76.0</td>\n",
       "    </tr>\n",
       "    <tr>\n",
       "      <th>2017-07-04</th>\n",
       "      <td>78.00</td>\n",
       "      <td>80.0</td>\n",
       "      <td>77.0</td>\n",
       "    </tr>\n",
       "    <tr>\n",
       "      <th>2017-07-05</th>\n",
       "      <td>77.25</td>\n",
       "      <td>80.0</td>\n",
       "      <td>75.0</td>\n",
       "    </tr>\n",
       "  </tbody>\n",
       "</table>\n",
       "</div>"
      ],
      "text/plain": [
       "             TAVG  TMAX  TMIN\n",
       "Date                         \n",
       "2017-07-01  77.25  80.0  74.0\n",
       "2017-07-02  79.00  81.0  77.0\n",
       "2017-07-03  77.80  81.0  76.0\n",
       "2017-07-04  78.00  80.0  77.0\n",
       "2017-07-05  77.25  80.0  75.0"
      ]
     },
     "execution_count": 91,
     "metadata": {},
     "output_type": "execute_result"
    }
   ],
   "source": [
    "Daily_normals_df= pd.DataFrame({'Date': dates, 'TMAX': daily_normals_TMAX, 'TMIN': daily_normals_TMIN,'TAVG': daily_normals_TAVG,})\n",
    "Daily_normals_df.set_index('Date', inplace=True, )\n",
    "Daily_normals_df.head()"
   ]
  },
  {
   "cell_type": "code",
   "execution_count": 92,
   "metadata": {},
   "outputs": [
    {
     "data": {
      "image/png": "[encoded data removed]",
      "text/plain": [
       "<Figure size 432x288 with 1 Axes>"
      ]
     },
     "metadata": {},
     "output_type": "display_data"
    }
   ],
   "source": [
    "Daily_normals_df.plot.area(stacked=False, title='Daily normals of Temperature in Hawaii')\n",
    "ax.set_xlabel('Date')\n",
    "plt.show()"
   ]
  },
  {
   "cell_type": "code",
   "execution_count": 93,
   "metadata": {
    "collapsed": true
   },
   "outputs": [],
   "source": [
    "app = Flask(__name__)"
   ]
  },
  {
   "cell_type": "code",
   "execution_count": 94,
   "metadata": {
    "collapsed": true
   },
   "outputs": [],
   "source": [
    "from sqlalchemy import create_engine, func , inspect, desc\n",
    "engine = create_engine('sqlite:///hawaii.sqlite')\n",
    "\n",
    "from sqlalchemy.ext.automap import automap_base\n",
    "Base = automap_base()\n",
    "Base.prepare(engine, reflect=True)\n",
    "from sqlalchemy.orm import Session\n",
    "\n",
    "session=Session(bind=engine)\n",
    "Station = Base.classes.stations\n",
    "Measurement = Base.classes.measurements"
   ]
  },
  {
   "cell_type": "code",
   "execution_count": 95,
   "metadata": {
    "collapsed": true
   },
   "outputs": [],
   "source": [
    "@app.route(\"/\")\n",
    "def welcome():\n",
    "    return (\"<h1>Hawaii Surf's Up API!</h1>\" \n",
    "            \"<i>Make sure your start and end dates are formatted (Year-Month-Day)</i>\"\n",
    "            \"<h2>Available Routes</h2>\" \n",
    "            \"<li><a href ='/api/v1.0/precipitation'>precipitation</a></li>\"\n",
    "            \"<li><a href ='/api/v1.0/stations'>stations</a></li>\"\n",
    "            \"<li><a href ='/api/v1.0/tobs'>tobs</a></li>\"\n",
    "            \"<li><a href = '/api/v1.0/calc_temps/<start>/<end>'>Calc Temps</a></li>\");\n"
   ]
  },
  {
   "cell_type": "code",
   "execution_count": 96,
   "metadata": {},
   "outputs": [],
   "source": [
    "@app.route(\"/api/v1.0/precipitation\")\n",
    "def precipitation():\n",
    "    \n",
    "    results = session.query(Measurement.date, Measurement.tobs).\\\n",
    "        filter(Measurement.date <= \"2016-01-01\", Measurement.date >= \"2016-01-01\").\\\n",
    "        all()\n",
    "\n",
    "    precipitation_list = [results]\n",
    "\n",
    "    return jsonify(precipitation_list)"
   ]
  },
  {
   "cell_type": "code",
   "execution_count": 97,
   "metadata": {},
   "outputs": [],
   "source": [
    "@app.route('/api/v1.0/stations')\n",
    "def stations():\n",
    " results = session.query(Station.name, Station.station, Station.elevation).all()\n",
    "\n",
    "    \n",
    " station_list = []\n",
    " for result in results:\n",
    "        row = {}\n",
    "        row['name'] = result[0]\n",
    "        row['station'] = result[1]\n",
    "        row['elevation'] = result[2]\n",
    "        station_list.append(row)\n",
    " return jsonify(station_list)"
   ]
  },
  {
   "cell_type": "code",
   "execution_count": 98,
   "metadata": {
    "collapsed": true
   },
   "outputs": [],
   "source": [
    "@app.route(\"/api/v1.0/tobs\")\n",
    "def temp_obs():\n",
    "    \n",
    " results = session.query(Station.name, Measurement.date, Measurement.tobs).\\\n",
    "        filter(Measurement.date >= \"2016-01-01\", Measurement.date <= \"2017-01-01\").\\\n",
    "        all()\n",
    "\n",
    "    \n",
    " tobs_list = []\n",
    " for result in results:\n",
    "        row = {}\n",
    "        row[\"Date\"] = result[1]\n",
    "        row[\"Station\"] = result[0]\n",
    "        row[\"Temperature\"] = int(result[2])\n",
    "        tobs_list.append(row)\n",
    "\n",
    " return jsonify(tobs_list)"
   ]
  },
  {
   "cell_type": "code",
   "execution_count": 99,
   "metadata": {
    "collapsed": true
   },
   "outputs": [],
   "source": [
    "@app.route('/api/v1.0/<date>/')\n",
    "def given_date(date):\n",
    " results = session.query(Measurement.date, func.avg(Measurement.tobs), func.max(Measurement.tobs), func.min(Measurement.tobs)).\\\n",
    "        filter(Measurement.date == date).all()\n",
    "\n",
    "\n",
    " data_list = []\n",
    " for result in results:\n",
    "        row = {}\n",
    "        row['Date'] = result[0]\n",
    "        row['Average Temperature'] = str(result[1])\n",
    "        row['Highest Temperature'] = str(result[2])\n",
    "        row['Lowest Temperature'] = str(result[3])\n",
    "        data_list.append(row)\n",
    " return jsonify(data_list)"
   ]
  },
  {
   "cell_type": "code",
   "execution_count": 100,
   "metadata": {
    "collapsed": true
   },
   "outputs": [],
   "source": [
    "@app.route(\"/api/v1.0/calc_temps/<start>\")\n",
    "\n",
    "def calc_temps(start='start_date'):\n",
    "    start_date = datetime.strptime('2016-08-01', '%Y-%m-%d').date()\n",
    "    start_results = session.query(func.max(Measurement.tobs), \\\n",
    "                            func.min(Measurement.tobs),\\\n",
    "                            func.avg(Measurement.tobs)).\\\n",
    "                            filter(Measurement.date >= start_date) \n",
    "    \n",
    "    start_tobs = []\n",
    "    for tobs in start_results:\n",
    "        tobs_dict = {}\n",
    "        tobs_dict[\"TAVG\"] = float(tobs[2])\n",
    "        tobs_dict[\"TMAX\"] = float(tobs[0])\n",
    "        tobs_dict[\"TMIN\"] = float(tobs[1])\n",
    "        \n",
    "        start_tobs.append(tobs_dict)\n",
    "\n",
    "    return jsonify(start_tobs)"
   ]
  },
  {
   "cell_type": "code",
   "execution_count": 101,
   "metadata": {
    "collapsed": true
   },
   "outputs": [],
   "source": [
    "@app.route(\"/api/v1.0/calc_temps/<start>/<end>\")\n",
    "\n",
    "def calc_temps_2(start='start_date', end='end_date'):      \n",
    "    start_date = datetime.strptime('2016-01-01', '%Y-%m-%d').date()\n",
    "    end_date = datetime.strptime('2017-01-01', '%Y-%m-%d').date()\n",
    "\n",
    "    start_end_results=session.query(func.max(Measurement.tobs).label(\"max_tobs\"), \\\n",
    "                      func.min(Measurement.tobs).label(\"min_tobs\"),\\\n",
    "                      func.avg(Measurement.tobs).label(\"avg_tobs\")).\\\n",
    "                      filter(Measurement.date.between(start_date , end_date))   \n",
    "\n",
    "    start_end_tobs = []\n",
    "    for tobs in start_end_results:\n",
    "        tobs_dict = {}\n",
    "        tobs_dict[\"TAVG\"] = float(tobs[2])\n",
    "        tobs_dict[\"TMAX\"] = float(tobs[0])\n",
    "        tobs_dict[\"TMIN\"] = float(tobs[1])\n",
    "\n",
    "        start_end_tobs.append(tobs_dict)\n",
    "    \n",
    "    return jsonify(start_end_tobs)"
   ]
  },
  {
   "cell_type": "code",
   "execution_count": null,
   "metadata": {},
   "outputs": [
    {
     "name": "stderr",
     "output_type": "stream",
     "text": [
      " * Running on http://127.0.0.1:5000/ (Press CTRL+C to quit)\n",
      "127.0.0.1 - - [18/Apr/2018 11:25:19] \"GET /api/v1.0/tobs HTTP/1.1\" 200 -\n",
      "127.0.0.1 - - [18/Apr/2018 11:25:24] \"GET /api/v1.0/precipitation HTTP/1.1\" 200 -\n",
      "127.0.0.1 - - [18/Apr/2018 11:25:27] \"GET /api/v1.0/stations HTTP/1.1\" 200 -\n",
      "127.0.0.1 - - [18/Apr/2018 11:25:30] \"GET /api/v1.0/tobs HTTP/1.1\" 200 -\n",
      "127.0.0.1 - - [18/Apr/2018 11:25:32] \"GET /api/v1.0/calc_temps/%3Cstart%3E/%3Cend%3E HTTP/1.1\" 200 -\n"
     ]
    }
   ],
   "source": [
    "if __name__ == '__main__':\n",
    "#    app.run(debug=True, use_reloader=False)\n",
    "    app.run()"
   ]
  },
  {
   "cell_type": "code",
   "execution_count": null,
   "metadata": {
    "collapsed": true
   },
   "outputs": [],
   "source": []
  }
 ],
 "metadata": {
  "kernelspec": {
   "display_name": "Python 3",
   "language": "python",
   "name": "python3"
  },
  "language_info": {
   "codemirror_mode": {
    "name": "ipython",
    "version": 3
   },
   "file_extension": ".py",
   "mimetype": "text/x-python",
   "name": "python",
   "nbconvert_exporter": "python",
   "pygments_lexer": "ipython3",
   "version": "3.6.3"
  }
 },
 "nbformat": 4,
 "nbformat_minor": 2
}
