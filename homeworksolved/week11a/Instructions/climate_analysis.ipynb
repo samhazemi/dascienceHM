{
 "cells": [
  {
   "cell_type": "code",
   "execution_count": 1,
   "metadata": {
    "collapsed": true
   },
   "outputs": [],
   "source": [
    "import datetime as dt\n",
    "import numpy as np\n",
    "import pandas as pd\n",
    "\n",
    "import sqlalchemy\n",
    "from sqlalchemy.ext.automap import automap_base\n",
    "from sqlalchemy.orm import Session\n",
    "from sqlalchemy import create_engine, func, inspect, desc\n",
    "from sqlalchemy.sql import label\n",
    "\n",
    "from flask import Flask, jsonify\n",
    "\n",
    "import matplotlib.pyplot as plt"
   ]
  },
  {
   "cell_type": "code",
   "execution_count": 2,
   "metadata": {
    "collapsed": true
   },
   "outputs": [],
   "source": [
    "engine = create_engine(\"sqlite:///hawaii.sqlite\")"
   ]
  },
  {
   "cell_type": "code",
   "execution_count": 3,
   "metadata": {
    "collapsed": true
   },
   "outputs": [],
   "source": [
    "Base = automap_base()\n",
    "Base.prepare(engine, reflect=True)"
   ]
  },
  {
   "cell_type": "code",
   "execution_count": 4,
   "metadata": {
    "collapsed": true
   },
   "outputs": [],
   "source": [
    "Measurements = Base.classes.measurements\n",
    "Stations = Base.classes.stations"
   ]
  },
  {
   "cell_type": "code",
   "execution_count": 5,
   "metadata": {
    "collapsed": true
   },
   "outputs": [],
   "source": [
    "session = Session(bind = engine)"
   ]
  },
  {
   "cell_type": "code",
   "execution_count": 6,
   "metadata": {
    "collapsed": true
   },
   "outputs": [],
   "source": [
    "results = session.query(Measurements.date, Measurements.prcp).filter(Measurements.date >= '2017-01-01')"
   ]
  },
  {
   "cell_type": "code",
   "execution_count": 7,
   "metadata": {},
   "outputs": [],
   "source": [
    "data = {'date': [], 'prcp': []}\n",
    "\n",
    "\n",
    "for row in results:\n",
    "    data['date'].append(row.date)\n",
    "    data['prcp'].append(row.prcp)\n",
    "\n",
    "\n",
    "precip = pd.DataFrame(data['prcp'], columns = ['prcp'], index = data['date'])\n",
    "#print(precip.head())"
   ]
  },
  {
   "cell_type": "code",
   "execution_count": 8,
   "metadata": {},
   "outputs": [],
   "source": [
    "def calc_temps(start_date, end_date):\n",
    "     \n",
    "    return session.query(func.min(Measurements.tobs), func.avg(Measurements.tobs), func.max(Measurements.tobs)).\\\n",
    "        filter(Measurements.date >= start_date).filter(Measurements.date <= end_date).all()\n",
    "#print(calc_temps('2017-02-28', '2017-03-05'))"
   ]
  },
  {
   "cell_type": "code",
   "execution_count": 9,
   "metadata": {
    "collapsed": true
   },
   "outputs": [],
   "source": [
    "temperatures = (calc_temps('2017-02-28', '2017-03-31'))\n",
    "labels = ['TMIN', 'TAVE', 'TMAX']\n",
    "df = pd.DataFrame.from_records(temperatures, columns=labels)"
   ]
  },
  {
   "cell_type": "code",
   "execution_count": 10,
   "metadata": {},
   "outputs": [
    {
     "data": {
      "image/png": "[encoded data removed]",
      "text/plain": [
       "<Figure size 360x504 with 1 Axes>"
      ]
     },
     "metadata": {},
     "output_type": "display_data"
    }
   ],
   "source": [
    "temp_chart = df[['TAVE']].plot(kind='bar', title =\"Temperatures in Hawaii\", figsize=(5, 7), legend=True, fontsize=12, grid=True, color='lightblue')\n",
    "temp_chart.set_xlabel(\"Temprature Avg\", fontsize=12)\n",
    "temp_chart.set_ylabel(\"Temperatures in Farenheit\", fontsize=12)\n",
    "plt.show()"
   ]
  },
  {
   "cell_type": "code",
   "execution_count": 11,
   "metadata": {},
   "outputs": [],
   "source": [
    "stations_results = session.query(func.count(Stations.station)).all()\n",
    "#print(\"There are \" + str(stations_results[0]) + \" stations.\")"
   ]
  },
  {
   "cell_type": "code",
   "execution_count": 13,
   "metadata": {},
   "outputs": [],
   "source": [
    "active_results = session.query(Measurements.station,\n",
    "    label('date', func.count(Measurements.date))).group_by(Measurements.station).all()\n",
    "#for result in active_results:\n",
    " #   print(result)"
   ]
  },
  {
   "cell_type": "code",
   "execution_count": 14,
   "metadata": {},
   "outputs": [],
   "source": [
    "desc_order = session.query(Measurements.station, func.count(Measurements.tobs)).group_by(Measurements.station).order_by(func.count(Measurements.tobs).desc())\n",
    "#for result in desc_order:\n",
    "#    print(result)"
   ]
  },
  {
   "cell_type": "code",
   "execution_count": 15,
   "metadata": {},
   "outputs": [],
   "source": [
    "obsv_num = session.query(Measurements.station, func.count(Measurements.tobs)).group_by(Measurements.station).order_by(func.count(Measurements.tobs).desc()).first()\n",
    "#print(obsv_num)"
   ]
  },
  {
   "cell_type": "code",
   "execution_count": 16,
   "metadata": {},
   "outputs": [],
   "source": [
    "temps = session.query(Measurements.station, Measurements.date, Measurements.tobs).\\\n",
    "    filter(Measurements.date > '2017-01-06').\\\n",
    "    order_by(Measurements.date).all()\n",
    "#temps"
   ]
  },
  {
   "cell_type": "code",
   "execution_count": 17,
   "metadata": {},
   "outputs": [],
   "source": [
    "highest_obs = session.query(Measurements.station, Measurements.tobs).\\\n",
    "    filter(Measurements.date > '2017-01-01').\\\n",
    "    group_by(Measurements.station).\\\n",
    "    order_by(func.count(Measurements.tobs).desc()).all()\n",
    "#highest_obs"
   ]
  },
  {
   "cell_type": "code",
   "execution_count": 18,
   "metadata": {},
   "outputs": [],
   "source": [
    "df = pd.DataFrame(temps, columns=['Station', 'date', 'temp'])\n",
    "df.set_index('Station', inplace=True)\n",
    "#df.head()"
   ]
  },
  {
   "cell_type": "code",
   "execution_count": 19,
   "metadata": {},
   "outputs": [
    {
     "data": {
      "image/png": "[encoded data removed]",
      "text/plain": [
       "<Figure size 1080x720 with 1 Axes>"
      ]
     },
     "metadata": {},
     "output_type": "display_data"
    }
   ],
   "source": [
    "hist_plot = df['temp'].hist(bins=12, figsize=(15,10))\n",
    "hist_plot.set_title('Temperature Observations', fontsize=20)\n",
    "hist_plot.set_ylabel('Frequency', fontsize=20)\n",
    "plt.show()"
   ]
  },
  {
   "cell_type": "code",
   "execution_count": 20,
   "metadata": {
    "collapsed": true
   },
   "outputs": [],
   "source": [
    "app = Flask(__name__)"
   ]
  },
  {
   "cell_type": "code",
   "execution_count": 21,
   "metadata": {
    "collapsed": true
   },
   "outputs": [],
   "source": [
    "from sqlalchemy import create_engine\n",
    "engine = create_engine('sqlite:///hawaii.sqlite')\n",
    "\n",
    "\n",
    "from sqlalchemy.ext.automap import automap_base\n",
    "Base = automap_base()\n",
    "Base.prepare(engine, reflect=True)\n",
    "\n",
    "\n",
    "Station = Base.classes.stations\n",
    "Measurement = Base.classes.measurements\n",
    "@app.route(\"/\")\n",
    "def welcome():\n",
    "    return (\"<h1>Hawaii Surf's Up API!</h1>\" \n",
    "            \"<i>Make sure your start and end dates are formatted (Year-Month-Day)</i>\"\n",
    "            \"<h2>Available Routes</h2>\" \n",
    "            \"<li>/api/v1.0/precipitation</li>\"\n",
    "            \"<li>/api/v1.0/stations</li>\"\n",
    "            \"<li>/api/v1.0/tobs</li>\"\n",
    "            \"<li>/api/v1.0/start_date</li>\" \n",
    "            \"<li>/api/v1.0/start_date/end_date></li>\");"
   ]
  },
  {
   "cell_type": "code",
   "execution_count": 22,
   "metadata": {
    "collapsed": true
   },
   "outputs": [],
   "source": [
    "@app.route(\"/api/v1.0/precipitation\")\n",
    "def precipitation():\n",
    "    \n",
    "    results = session.query(Measurement.date, Measurement.tobs).\\\n",
    "        filter(Measurement.date <= \"2016-01-01\", Measurement.date >= \"2016-01-01\").\\\n",
    "        all()\n",
    "\n",
    "    #create the JSON objects\n",
    "    precipitation_list = [results]\n",
    "\n",
    "    return jsonify(precipitation_list)\n",
    "\n",
    "\n"
   ]
  },
  {
   "cell_type": "code",
   "execution_count": 23,
   "metadata": {},
   "outputs": [
    {
     "ename": "SyntaxError",
     "evalue": "invalid syntax (<ipython-input-23-6ccc70349639>, line 2)",
     "output_type": "error",
     "traceback": [
      "\u001b[1;36m  File \u001b[1;32m\"<ipython-input-23-6ccc70349639>\"\u001b[1;36m, line \u001b[1;32m2\u001b[0m\n\u001b[1;33m    results = session.query(Station.name, Station.station, Station.elevation).all()\u001b[0m\n\u001b[1;37m          ^\u001b[0m\n\u001b[1;31mSyntaxError\u001b[0m\u001b[1;31m:\u001b[0m invalid syntax\n"
     ]
    }
   ],
   "source": [
    "@app.route('/api/v1.0/stations')\n",
    "results = session.query(Station.name, Station.station, Station.elevation).all()\n",
    "\n",
    "    \n",
    "    station_list = []\n",
    "    for result in results:\n",
    "        row = {}\n",
    "        row['name'] = result[0]\n",
    "        row['station'] = result[1]\n",
    "        row['elevation'] = result[2]\n",
    "        station_list.append(row)\n",
    "    return jsonify(station_list)\n"
   ]
  },
  {
   "cell_type": "code",
   "execution_count": 24,
   "metadata": {
    "collapsed": true
   },
   "outputs": [],
   "source": [
    "@app.route(\"/api/v1.0/tobs\")\n",
    "def temp_obs():\n",
    "    \n",
    "    results = session.query(Station.name, Measurement.date, Measurement.tobs).\\\n",
    "        filter(Measurement.date >= \"2016-01-01\", Measurement.date <= \"2017-01-01\").\\\n",
    "        all()\n",
    "\n",
    "    \n",
    "    tobs_list = []\n",
    "    for result in results:\n",
    "        row = {}\n",
    "        row[\"Date\"] = result[1]\n",
    "        row[\"Station\"] = result[0]\n",
    "        row[\"Temperature\"] = int(result[2])\n",
    "        tobs_list.append(row)\n",
    "\n",
    "    return jsonify(tobs_list)\n"
   ]
  },
  {
   "cell_type": "code",
   "execution_count": 25,
   "metadata": {
    "collapsed": true
   },
   "outputs": [],
   "source": [
    "@app.route('/api/v1.0/<date>/')\n",
    "def given_date(date):\n",
    "    \"\"\"Return the average temp, max temp, and min temp for the date\"\"\"\n",
    "    results = session.query(Measurement.date, func.avg(Measurement.tobs), func.max(Measurement.tobs), func.min(Measurement.tobs)).\\\n",
    "        filter(Measurement.date == date).all()\n",
    "\n",
    "\n",
    "    data_list = []\n",
    "    for result in results:\n",
    "        row = {}\n",
    "        row['Date'] = result[0]\n",
    "        row['Average Temperature'] = float(result[1])\n",
    "        row['Highest Temperature'] = float(result[2])\n",
    "        row['Lowest Temperature'] = float(result[3])\n",
    "        data_list.append(row)\n",
    "\n",
    "    return jsonify(data_list)\n"
   ]
  },
  {
   "cell_type": "code",
   "execution_count": 26,
   "metadata": {
    "collapsed": true
   },
   "outputs": [],
   "source": [
    "@app.route('/api/v1.0/<start_date>/<end_date>/')\n",
    "def query_dates(start_date, end_date):\n",
    "    \n",
    "    results = session.query(func.avg(Measurement.tobs), func.max(Measurement.tobs), func.min(Measurement.tobs)).\\\n",
    "        filter(Measurement.date >= start_date, Measurement.date <= end_date).all()\n",
    "\n",
    "    data_list = []\n",
    "    for result in results:\n",
    "        row = {}\n",
    "        row[\"Start Date\"] = start_date\n",
    "        row[\"End Date\"] = end_date\n",
    "        row[\"Average Temperature\"] = float(result[0])\n",
    "        row[\"Highest Temperature\"] = float(result[1])\n",
    "        row[\"Lowest Temperature\"] = float(result[2])\n",
    "        data_list.append(row)\n",
    "    return jsonify(data_list)"
   ]
  },
  {
   "cell_type": "code",
   "execution_count": null,
   "metadata": {},
   "outputs": [
    {
     "name": "stderr",
     "output_type": "stream",
     "text": [
      " * Running on http://127.0.0.1:5000/ (Press CTRL+C to quit)\n",
      "127.0.0.1 - - [17/Apr/2018 16:44:05] \"GET / HTTP/1.1\" 200 -\n",
      "127.0.0.1 - - [17/Apr/2018 16:44:05] \"GET /favicon.ico HTTP/1.1\" 404 -\n"
     ]
    }
   ],
   "source": [
    "if __name__ == '__main__':\n",
    "#    app.run(debug=True, use_reloader=False)\n",
    "    app.run()"
   ]
  },
  {
   "cell_type": "code",
   "execution_count": null,
   "metadata": {
    "collapsed": true
   },
   "outputs": [],
   "source": []
  },
  {
   "cell_type": "code",
   "execution_count": null,
   "metadata": {
    "collapsed": true
   },
   "outputs": [],
   "source": []
  }
 ],
 "metadata": {
  "kernelspec": {
   "display_name": "Python 3",
   "language": "python",
   "name": "python3"
  },
  "language_info": {
   "codemirror_mode": {
    "name": "ipython",
    "version": 3
   },
   "file_extension": ".py",
   "mimetype": "text/x-python",
   "name": "python",
   "nbconvert_exporter": "python",
   "pygments_lexer": "ipython3",
   "version": "3.6.3"
  }
 },
 "nbformat": 4,
 "nbformat_minor": 2
}
