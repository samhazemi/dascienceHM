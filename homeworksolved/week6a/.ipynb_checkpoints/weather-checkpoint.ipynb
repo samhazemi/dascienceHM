{
 "cells": [
  {
   "cell_type": "code",
   "execution_count": 10,
   "metadata": {
    "collapsed": true
   },
   "outputs": [],
   "source": [
    "##from config import api_key\n",
    "from citipy import citipy\n",
    "\n",
    "import random\n",
    "import requests\n",
    "\n",
    "import pandas as pd\n",
    "import numpy as np\n",
    "\n",
    "import matplotlib.pyplot as plt\n",
    "\n",
    "import matplotlib\n",
    "\n",
    "plt.style.use(\"seaborn\")"
   ]
  },
  {
   "cell_type": "code",
   "execution_count": 11,
   "metadata": {
    "collapsed": true
   },
   "outputs": [],
   "source": [
    "lat_zone = np.arange(-90,90,15)\n",
    "lon_zone = np.arange(-200,200,15)\n",
    "cities_df = pd.DataFrame()\n",
    "cities_df[\"Latitude\"] = \"\"\n",
    "cities_df[\"Longitude\"] = \"\""
   ]
  },
  {
   "cell_type": "code",
   "execution_count": 12,
   "metadata": {},
   "outputs": [
    {
     "data": {
      "text/plain": [
       "(16200, 2)"
      ]
     },
     "execution_count": 12,
     "metadata": {},
     "output_type": "execute_result"
    }
   ],
   "source": [
    "for x in lat_zone:\n",
    "    for y in lon_zone:\n",
    "        x_values = list(np.arange(x,x+15,0.01))\n",
    "        y_values = list(np.arange(y,y+15,0.01))\n",
    "        lats = random.sample(x_values,50)\n",
    "        lons = random.sample(y_values,50)\n",
    "        lat_samples = [(x+dec_lat) for dec_lat in lats]\n",
    "        lon_samples = [y+dec_lon for dec_lon in lons]\n",
    "        cities_df = cities_df.append(pd.DataFrame.from_dict({\"Latitude\":lat_samples,\n",
    "                                       \"Longitude\":lon_samples}))\n",
    "cities_df = cities_df.reset_index(drop=True)\n",
    "cities_df.shape"
   ]
  },
  {
   "cell_type": "code",
   "execution_count": 13,
   "metadata": {
    "collapsed": true
   },
   "outputs": [],
   "source": [
    "cities_df[\"Closest City name\"] = \"\"\n",
    "cities_df[\"Closest Country code\"] = \"\"\n",
    "for index,row in cities_df.iterrows():\n",
    "    city = citipy.nearest_city(row[\"Latitude\"],row[\"Longitude\"])\n",
    "    cities_df.set_value(index,\"Closest City name\",city.city_name)\n",
    "    cities_df.set_value(index,\"Closest Country code\",city.country_code)"
   ]
  },
  {
   "cell_type": "code",
   "execution_count": 14,
   "metadata": {},
   "outputs": [
    {
     "data": {
      "text/plain": [
       "(860, 2)"
      ]
     },
     "execution_count": 14,
     "metadata": {},
     "output_type": "execute_result"
    }
   ],
   "source": [
    "clean_cities_df = cities_df.drop(['Latitude', 'Longitude'],axis=1)\n",
    "clean_cities_df\n",
    "clean_cities_df = clean_cities_df.drop_duplicates()\n",
    "clean_cities_df.shape"
   ]
  },
  {
   "cell_type": "code",
   "execution_count": 15,
   "metadata": {
    "collapsed": true
   },
   "outputs": [],
   "source": [
    "selected_cities = clean_cities_df.sample(500)\n",
    "\n",
    "selected_cities = selected_cities.reset_index(drop=True)"
   ]
  },
  {
   "cell_type": "code",
   "execution_count": 16,
   "metadata": {
    "collapsed": true
   },
   "outputs": [],
   "source": [
    "base_url = \"http://api.openweathermap.org/data/2.5/weather\"\n",
    "\n",
    "app_id = \"25bc90a1196e6f153eece0bc0b0fc9eb\"\n",
    "\n",
    "params = { \"appid\" :app_id,\"units\":\"metric\" }"
   ]
  },
  {
   "cell_type": "code",
   "execution_count": 17,
   "metadata": {},
   "outputs": [
    {
     "name": "stdout",
     "output_type": "stream",
     "text": [
      "Retrieving weather information for beipiao,cn\n"
     ]
    },
    {
     "ename": "NameError",
     "evalue": "name 'encrypt_key' is not defined",
     "output_type": "error",
     "traceback": [
      "\u001b[1;31m---------------------------------------------------------------------------\u001b[0m",
      "\u001b[1;31mNameError\u001b[0m                                 Traceback (most recent call last)",
      "\u001b[1;32m<ipython-input-17-5a4fb2020f87>\u001b[0m in \u001b[0;36m<module>\u001b[1;34m()\u001b[0m\n\u001b[0;32m      5\u001b[0m     \u001b[0mprint\u001b[0m\u001b[1;33m(\u001b[0m\u001b[1;34mf\"Retrieving weather information for {params['q']}\"\u001b[0m\u001b[1;33m)\u001b[0m\u001b[1;33m\u001b[0m\u001b[0m\n\u001b[0;32m      6\u001b[0m     \u001b[0mcity_weather_resp\u001b[0m \u001b[1;33m=\u001b[0m \u001b[0mrequests\u001b[0m\u001b[1;33m.\u001b[0m\u001b[0mget\u001b[0m\u001b[1;33m(\u001b[0m\u001b[0mbase_url\u001b[0m\u001b[1;33m,\u001b[0m\u001b[0mparams\u001b[0m\u001b[1;33m)\u001b[0m\u001b[1;33m\u001b[0m\u001b[0m\n\u001b[1;32m----> 7\u001b[1;33m     \u001b[0mprint\u001b[0m\u001b[1;33m(\u001b[0m\u001b[0mencrypt_key\u001b[0m\u001b[1;33m(\u001b[0m\u001b[0mcity_weather_resp\u001b[0m\u001b[1;33m.\u001b[0m\u001b[0murl\u001b[0m\u001b[1;33m)\u001b[0m\u001b[1;33m)\u001b[0m\u001b[1;33m\u001b[0m\u001b[0m\n\u001b[0m\u001b[0;32m      8\u001b[0m     \u001b[0mcity_weather_resp\u001b[0m  \u001b[1;33m=\u001b[0m \u001b[0mcity_weather_resp\u001b[0m\u001b[1;33m.\u001b[0m\u001b[0mjson\u001b[0m\u001b[1;33m(\u001b[0m\u001b[1;33m)\u001b[0m\u001b[1;33m\u001b[0m\u001b[0m\n\u001b[0;32m      9\u001b[0m     \u001b[0mselected_cities\u001b[0m\u001b[1;33m.\u001b[0m\u001b[0mset_value\u001b[0m\u001b[1;33m(\u001b[0m\u001b[0mindex\u001b[0m\u001b[1;33m,\u001b[0m\u001b[1;34m\"Latitude\"\u001b[0m\u001b[1;33m,\u001b[0m\u001b[0mcity_weather_resp\u001b[0m\u001b[1;33m.\u001b[0m\u001b[0mget\u001b[0m\u001b[1;33m(\u001b[0m\u001b[1;34m\"coord\"\u001b[0m\u001b[1;33m,\u001b[0m\u001b[1;33m{\u001b[0m\u001b[1;33m}\u001b[0m\u001b[1;33m)\u001b[0m\u001b[1;33m.\u001b[0m\u001b[0mget\u001b[0m\u001b[1;33m(\u001b[0m\u001b[1;34m\"lat\"\u001b[0m\u001b[1;33m)\u001b[0m\u001b[1;33m)\u001b[0m\u001b[1;33m\u001b[0m\u001b[0m\n",
      "\u001b[1;31mNameError\u001b[0m: name 'encrypt_key' is not defined"
     ]
    }
   ],
   "source": [
    "\n",
    "\n",
    "for index,row in selected_cities.iterrows():\n",
    "    params[\"q\"] =f'{row[\"Closest City name\"]},{row[\"Closest Country code\"]}'\n",
    "    print(f\"Retrieving weather information for {params['q']}\")\n",
    "    city_weather_resp = requests.get(base_url,params)\n",
    "    print(encrypt_key(city_weather_resp.url))\n",
    "    city_weather_resp  = city_weather_resp.json()\n",
    "    selected_cities.set_value(index,\"Latitude\",city_weather_resp.get(\"coord\",{}).get(\"lat\"))\n",
    "    selected_cities.set_value(index,\"Longitude\",city_weather_resp.get(\"coord\",{}).get(\"lon\"))\n",
    "    selected_cities.set_value(index,\"Temperature\",city_weather_resp.get(\"main\",{}).get(\"temp_max\"))\n",
    "    selected_cities.set_value(index,\"Wind speed\",city_weather_resp.get(\"wind\",{}).get(\"speed\"))\n",
    "    selected_cities.set_value(index,\"Humidity\",city_weather_resp.get(\"main\",{}).get(\"humidity\"))\n",
    "    selected_cities.set_value(index,\"Cloudiness\",city_weather_resp.get(\"clouds\",{}).get(\"all\"))"
   ]
  },
  {
   "cell_type": "code",
   "execution_count": null,
   "metadata": {
    "collapsed": true
   },
   "outputs": [],
   "source": [
    "selected_cities = selected_cities.dropna()\n",
    "\n",
    "selected_cities.shape\n",
    "selected_cities.to_csv(\"City_Weather_data.csv\")"
   ]
  },
  {
   "cell_type": "code",
   "execution_count": null,
   "metadata": {
    "collapsed": true
   },
   "outputs": [],
   "source": [
    "def set_plot_prop(x_title,x_lim,y_title):\n",
    "    plt.title(f\"{y_title} vs {x_title}\")\n",
    "    plt.ylabel(y_title)\n",
    "    plt.xlabel(x_title)\n",
    "    plt.grid(True)\n",
    "    plt.xlim(x_lim)"
   ]
  },
  {
   "cell_type": "code",
   "execution_count": null,
   "metadata": {},
   "outputs": [],
   "source": [
    "selected_cities.plot(kind=\"scatter\",x=\"Latitude\",y=\"Temperature\",grid=True,color=\"blue\")"
   ]
  },
  {
   "cell_type": "code",
   "execution_count": null,
   "metadata": {},
   "outputs": [],
   "source": [
    "set_plot_prop(\"Latitude\",[-90,90],\"Temperature (Celsius)\")\n",
    "plt.axvline(0, color='black',alpha=0.5)\n",
    "plt.savefig(\"Temperature vs Latitude\")\n",
    "plt.show()"
   ]
  },
  {
   "cell_type": "code",
   "execution_count": null,
   "metadata": {},
   "outputs": [],
   "source": [
    "selected_cities.plot(kind=\"scatter\",x=\"Latitude\",y=\"Humidity\",grid=True,color=\"blue\")"
   ]
  },
  {
   "cell_type": "code",
   "execution_count": null,
   "metadata": {},
   "outputs": [],
   "source": [
    "set_plot_prop(\"Latitude\",[-90,90],\"Humidity\")\n",
    "plt.axvline(0, color='black',alpha=0.5)\n",
    "plt.savefig(\"Humidity vs Latitude\")\n",
    "plt.show()"
   ]
  },
  {
   "cell_type": "code",
   "execution_count": null,
   "metadata": {},
   "outputs": [],
   "source": [
    "selected_cities[\"Wind speed\"] = pd.to_numeric(selected_cities[\"Wind speed\"])\n",
    "selected_cities.plot(kind=\"scatter\",x=\"Latitude\",y=\"Wind speed\",grid=True,color=\"blue\")"
   ]
  },
  {
   "cell_type": "code",
   "execution_count": null,
   "metadata": {},
   "outputs": [],
   "source": [
    "set_plot_prop(\"Latitude\",[-90,90],\"Wind speed (mph)\")\n",
    "plt.axvline(0, color='black',alpha=0.5)\n",
    "plt.savefig(\"Wind speed vs Latitude\")\n",
    "plt.show()"
   ]
  },
  {
   "cell_type": "code",
   "execution_count": null,
   "metadata": {},
   "outputs": [],
   "source": [
    "selected_cities[\"Cloudiness\"] = pd.to_numeric(selected_cities[\"Cloudiness\"])\n",
    "selected_cities.plot(kind=\"scatter\",x=\"Latitude\",y=\"Cloudiness\",grid=True,color=\"blue\")"
   ]
  },
  {
   "cell_type": "code",
   "execution_count": null,
   "metadata": {},
   "outputs": [],
   "source": [
    "set_plot_prop(\"Latitude\",[-90,90],\"Cloudiness\")\n",
    "plt.axvline(0, color='black',alpha=0.5)\n",
    "plt.savefig(\"Cloudiness vs Latitude\")\n",
    "plt.show()"
   ]
  },
  {
   "cell_type": "code",
   "execution_count": null,
   "metadata": {},
   "outputs": [],
   "source": [
    "size_temp = np.round((((selected_cities.Temperature)/100)**2)*10,2)\n",
    "\n",
    "selected_cities.plot(kind=\"scatter\",x=\"Longitude\",y=\"Latitude\",grid=True, edgecolor=\"black\",\n",
    "                     c=size_temp,s=200,cmap=plt.cm.YlOrRd)\n",
    "plt.xlabel(\"Longitude\")\n",
    "plt.tight_layout()\n",
    "plt.title(\"Temperature along Longitude and Latitude\")\n",
    "plt.ylabel(\"Latitude\")\n",
    "plt.ylim([-85,85])\n",
    "plt.grid(True)\n",
    "\n",
    "plt.xlim([-200,200])\n",
    "plt.subplots_adjust(bottom=.25, left=.25)\n",
    "\n",
    "plt.axhline(0, color='black',alpha=0.5)\n",
    "plt.savefig(\"Temperature approaching Equator\")\n",
    "\n",
    "plt.show()"
   ]
  },
  {
   "cell_type": "code",
   "execution_count": null,
   "metadata": {
    "collapsed": true
   },
   "outputs": [],
   "source": []
  },
  {
   "cell_type": "code",
   "execution_count": null,
   "metadata": {
    "collapsed": true
   },
   "outputs": [],
   "source": []
  }
 ],
 "metadata": {
  "kernelspec": {
   "display_name": "Python 3",
   "language": "python",
   "name": "python3"
  },
  "language_info": {
   "codemirror_mode": {
    "name": "ipython",
    "version": 3
   },
   "file_extension": ".py",
   "mimetype": "text/x-python",
   "name": "python",
   "nbconvert_exporter": "python",
   "pygments_lexer": "ipython3",
   "version": "3.6.3"
  }
 },
 "nbformat": 4,
 "nbformat_minor": 2
}
